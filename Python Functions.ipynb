{
 "cells": [
  {
   "cell_type": "code",
   "execution_count": 3,
   "metadata": {},
   "outputs": [],
   "source": [
    "# Python functions are subprograms which work on given data and returns a value\n",
    "# Functions are automation in simpler scale\n",
    "# in the below program i am creating a function which will perform multiplication with 2 for the given number\n",
    "def multiplication(x):\n",
    "    '''def here denotes that the function is starting'''\n",
    "    '''identifier following the def is the function name'''\n",
    "    '''the variable inside parentheses , x in this case is called arguments/parameters'''\n",
    "    m = x*2\n",
    "    '''m here is the variable which is storing the multiplication value'''\n",
    "    '''x*2 denotes that with this function we want to perform is multiplication of 2 with given user input(x)'''\n",
    "    '''return statement denotes here that we are returning the value after performing the calculation'''\n",
    "    return m"
   ]
  },
  {
   "cell_type": "code",
   "execution_count": 4,
   "metadata": {},
   "outputs": [
    {
     "name": "stdout",
     "output_type": "stream",
     "text": [
      "50\n"
     ]
    }
   ],
   "source": [
    "# lets take a user input and use the created function on the same\n",
    "a = int(input(\"enter a number: \"))\n",
    "print(multiplication(a))"
   ]
  },
  {
   "cell_type": "code",
   "execution_count": 6,
   "metadata": {},
   "outputs": [
    {
     "name": "stdout",
     "output_type": "stream",
     "text": [
      "50\n",
      "50\n"
     ]
    }
   ],
   "source": [
    "# we can perform with functions with the variable names as well as the direct values\n",
    "# Please note that number of values being passed over here is same as number of parameters\n",
    "a = 25\n",
    "print(multiplication(a))\n",
    "print(multiplication(25))"
   ]
  },
  {
   "cell_type": "code",
   "execution_count": null,
   "metadata": {},
   "outputs": [],
   "source": []
  },
  {
   "cell_type": "code",
   "execution_count": null,
   "metadata": {},
   "outputs": [],
   "source": []
  }
 ],
 "metadata": {
  "kernelspec": {
   "display_name": "github1",
   "language": "python",
   "name": "python3"
  },
  "language_info": {
   "codemirror_mode": {
    "name": "ipython",
    "version": 3
   },
   "file_extension": ".py",
   "mimetype": "text/x-python",
   "name": "python",
   "nbconvert_exporter": "python",
   "pygments_lexer": "ipython3",
   "version": "3.10.8"
  },
  "orig_nbformat": 4
 },
 "nbformat": 4,
 "nbformat_minor": 2
}
