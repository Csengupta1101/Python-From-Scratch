{
 "cells": [
  {
   "cell_type": "markdown",
   "id": "066f7206",
   "metadata": {},
   "source": [
    "#### Q1\n",
    "Find out which of the user given element  is not a python keyword"
   ]
  },
  {
   "cell_type": "code",
   "execution_count": 1,
   "id": "0f118ad8",
   "metadata": {},
   "outputs": [
    {
     "name": "stdout",
     "output_type": "stream",
     "text": [
      "the word is: hi\n",
      "hi is not a keyword\n"
     ]
    }
   ],
   "source": [
    "import keyword\n",
    "keywords = keyword.kwlist\n",
    "guess = input(\"the word is: \")\n",
    "if guess not in keywords:\n",
    "    print(f\"{guess} is not a keyword\")\n",
    "else:\n",
    "    print(f\"{guess} is a keyword\")"
   ]
  },
  {
   "cell_type": "code",
   "execution_count": 2,
   "id": "d86cecc0",
   "metadata": {},
   "outputs": [
    {
     "data": {
      "text/plain": [
       "12.5"
      ]
     },
     "execution_count": 2,
     "metadata": {},
     "output_type": "execute_result"
    }
   ],
   "source": [
    "float('12.5')"
   ]
  },
  {
   "cell_type": "code",
   "execution_count": null,
   "id": "b345bd25",
   "metadata": {},
   "outputs": [],
   "source": [
    "        \n"
   ]
  },
  {
   "cell_type": "code",
   "execution_count": 4,
   "id": "22f8b0d4",
   "metadata": {},
   "outputs": [
    {
     "name": "stdout",
     "output_type": "stream",
     "text": [
      "[2, 3, 7, 13, 33, 45, 65, 342]\n"
     ]
    }
   ],
   "source": [
    "l1 = [33,45,3,65,13,2,342,7]\n",
    "l2 = []\n",
    "for i in range(len(l1)):\n",
    "    l2.append(min(l1))\n",
    "    l1.remove(min(l1))\n",
    "print(l2)"
   ]
  },
  {
   "cell_type": "code",
   "execution_count": 5,
   "id": "0ea23325",
   "metadata": {},
   "outputs": [
    {
     "name": "stdout",
     "output_type": "stream",
     "text": [
      "[2, 3, 7, 13, 33, 45, 65, 342]\n"
     ]
    }
   ],
   "source": [
    "l1 = [33,45,3,65,13,2,342,7]\n",
    "l2 = []\n",
    "for i in range(len(l1)):\n",
    "    l2.append(min(l1))\n",
    "    l1.remove(min(l1))\n",
    "print(l2)"
   ]
  },
  {
   "cell_type": "code",
   "execution_count": 7,
   "id": "120bea3e",
   "metadata": {},
   "outputs": [],
   "source": [
    "import pandas as pd\n",
    "import numpy as np"
   ]
  },
  {
   "cell_type": "code",
   "execution_count": null,
   "id": "87137c4a",
   "metadata": {},
   "outputs": [],
   "source": []
  },
  {
   "cell_type": "code",
   "execution_count": null,
   "id": "b1f89239",
   "metadata": {},
   "outputs": [],
   "source": []
  },
  {
   "cell_type": "code",
   "execution_count": null,
   "id": "b712a0f7",
   "metadata": {},
   "outputs": [],
   "source": []
  }
 ],
 "metadata": {
  "kernelspec": {
   "display_name": "Python 3 (ipykernel)",
   "language": "python",
   "name": "python3"
  },
  "language_info": {
   "codemirror_mode": {
    "name": "ipython",
    "version": 3
   },
   "file_extension": ".py",
   "mimetype": "text/x-python",
   "name": "python",
   "nbconvert_exporter": "python",
   "pygments_lexer": "ipython3",
   "version": "3.9.13"
  }
 },
 "nbformat": 4,
 "nbformat_minor": 5
}
