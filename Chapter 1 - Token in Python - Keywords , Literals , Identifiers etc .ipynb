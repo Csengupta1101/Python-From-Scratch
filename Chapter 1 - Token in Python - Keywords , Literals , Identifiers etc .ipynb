{
 "cells": [
  {
   "cell_type": "markdown",
   "id": "debe07ed",
   "metadata": {},
   "source": [
    "#### Tokens\n",
    "The smallest individual unit in a program is called a token (lexical unit) , There is a code written below , as of now let's not get into understanding the code itself and I'll just point the types of tokens there are. The token types are mentioned as below -\n",
    "1. Keywords\n",
    "2. Identifiers (Names)\n",
    "3. Literals\n",
    "4. Operators\n",
    "5. Punctuators"
   ]
  },
  {
   "cell_type": "code",
   "execution_count": 1,
   "id": "63cd9b63",
   "metadata": {},
   "outputs": [
    {
     "name": "stdout",
     "output_type": "stream",
     "text": [
      "2\n",
      "4\n",
      "6\n",
      "8\n"
     ]
    }
   ],
   "source": [
    "for i in range(1,10):\n",
    "    if i%2 == 0:\n",
    "        print(i)"
   ]
  },
  {
   "cell_type": "markdown",
   "id": "8a21a8ab",
   "metadata": {},
   "source": [
    "As of now , don't try to understand the program , let us learn what tokens are present here -\n",
    "\n",
    "1. for , in , if (Keywords)\n",
    "2. i  (identifiers)\n",
    "3. %,== (operators)\n",
    "4. 1,10,2,0 (literals)\n",
    "5. ,: (punctuators)\n",
    " \n",
    "The comma might have confused you as it's used multiple times , it is a punctuator only."
   ]
  },
  {
   "cell_type": "markdown",
   "id": "9de34233",
   "metadata": {},
   "source": [
    "#### Keywords\n",
    "\n",
    "Let's have a look at all the keywords that we have in python , we will use a keyword module for the same."
   ]
  },
  {
   "cell_type": "code",
   "execution_count": 2,
   "id": "acfd1132",
   "metadata": {},
   "outputs": [
    {
     "name": "stdout",
     "output_type": "stream",
     "text": [
      "Python keywords are....\n",
      "['False', 'None', 'True', 'and', 'as', 'assert', 'async', 'await', 'break', 'class', 'continue', 'def', 'del', 'elif', 'else', 'except', 'finally', 'for', 'from', 'global', 'if', 'import', 'in', 'is', 'lambda', 'nonlocal', 'not', 'or', 'pass', 'raise', 'return', 'try', 'while', 'with', 'yield']\n"
     ]
    }
   ],
   "source": [
    "import keyword\n",
    "print(\"Python keywords are....\")\n",
    "print(keyword.kwlist)"
   ]
  },
  {
   "cell_type": "markdown",
   "id": "bb69e1b2",
   "metadata": {},
   "source": [
    "As you can see above , all the keywords except True, False and None are in lowercase and they must be written as they are. There are 33 keywords in total."
   ]
  },
  {
   "cell_type": "markdown",
   "id": "76d988bd",
   "metadata": {},
   "source": [
    "#### Identifiers\n",
    "\n",
    "An identifier is a name given to entities like class, functions, variables, etc. It helps to differentiate one entity from another.\n",
    "\n",
    "<b> Rules for writing identifiers </b>\n",
    "\n",
    "1. Identifiers can be a combination of letters in lowercase (a to z) or uppercase (A to Z) or digits (0 to 9) or an underscore _. Names like myClass, var_1 and print_this_to_screen, all are valid example.\n",
    "2. An identifier cannot start with a digit. 1variable is invalid, but variable1 is a valid name.\n",
    "3. Keywords cannot be used as identifiers.\n",
    "4. We cannot use special symbols like !, @, #, $, % etc. in our identifier\n",
    "5. An identifier can be of any length"
   ]
  },
  {
   "cell_type": "markdown",
   "id": "c5671757",
   "metadata": {},
   "source": [
    "Valid Identifiers"
   ]
  },
  {
   "cell_type": "code",
   "execution_count": 3,
   "id": "ab2a6223",
   "metadata": {},
   "outputs": [
    {
     "name": "stdout",
     "output_type": "stream",
     "text": [
      "12\n",
      "Valid identifiers\n",
      "10\n"
     ]
    }
   ],
   "source": [
    "MyFile = 12\n",
    "_Cherry = \"Valid identifiers\"\n",
    "a20 = 10\n",
    "print(MyFile)\n",
    "print(_Cherry)\n",
    "print(a20)"
   ]
  },
  {
   "cell_type": "markdown",
   "id": "0705ce49",
   "metadata": {},
   "source": [
    "Invalid Identifiers"
   ]
  },
  {
   "cell_type": "code",
   "execution_count": 4,
   "id": "1761555f",
   "metadata": {},
   "outputs": [
    {
     "ename": "SyntaxError",
     "evalue": "cannot assign to expression here. Maybe you meant '==' instead of '='? (2302388622.py, line 1)",
     "output_type": "error",
     "traceback": [
      "\u001b[1;36m  Input \u001b[1;32mIn [4]\u001b[1;36m\u001b[0m\n\u001b[1;33m    D-2 = 23\u001b[0m\n\u001b[1;37m    ^\u001b[0m\n\u001b[1;31mSyntaxError\u001b[0m\u001b[1;31m:\u001b[0m cannot assign to expression here. Maybe you meant '==' instead of '='?\n"
     ]
    }
   ],
   "source": [
    "D-2 = 23\n",
    "print(D-2)"
   ]
  },
  {
   "cell_type": "code",
   "execution_count": 5,
   "id": "bf3a8b90",
   "metadata": {},
   "outputs": [
    {
     "ename": "SyntaxError",
     "evalue": "invalid decimal literal (1300877659.py, line 1)",
     "output_type": "error",
     "traceback": [
      "\u001b[1;36m  Input \u001b[1;32mIn [5]\u001b[1;36m\u001b[0m\n\u001b[1;33m    12da = \"invalid\"\u001b[0m\n\u001b[1;37m     ^\u001b[0m\n\u001b[1;31mSyntaxError\u001b[0m\u001b[1;31m:\u001b[0m invalid decimal literal\n"
     ]
    }
   ],
   "source": [
    "12da = \"invalid\"\n",
    "print(12da)"
   ]
  },
  {
   "cell_type": "code",
   "execution_count": 6,
   "id": "f4f6285e",
   "metadata": {},
   "outputs": [
    {
     "ename": "SyntaxError",
     "evalue": "invalid syntax (341309556.py, line 1)",
     "output_type": "error",
     "traceback": [
      "\u001b[1;36m  Input \u001b[1;32mIn [6]\u001b[1;36m\u001b[0m\n\u001b[1;33m    if = 14\u001b[0m\n\u001b[1;37m       ^\u001b[0m\n\u001b[1;31mSyntaxError\u001b[0m\u001b[1;31m:\u001b[0m invalid syntax\n"
     ]
    }
   ],
   "source": [
    "if = 14\n",
    "print(if)"
   ]
  },
  {
   "cell_type": "code",
   "execution_count": 7,
   "id": "252fd2b4",
   "metadata": {},
   "outputs": [
    {
     "ename": "NameError",
     "evalue": "name 'h' is not defined",
     "output_type": "error",
     "traceback": [
      "\u001b[1;31m---------------------------------------------------------------------------\u001b[0m",
      "\u001b[1;31mNameError\u001b[0m                                 Traceback (most recent call last)",
      "Input \u001b[1;32mIn [7]\u001b[0m, in \u001b[0;36m<cell line: 1>\u001b[1;34m()\u001b[0m\n\u001b[1;32m----> 1\u001b[0m \u001b[43mh\u001b[49m\u001b[38;5;241m.\u001b[39mpark \u001b[38;5;241m=\u001b[39m \u001b[38;5;241m78\u001b[39m\n\u001b[0;32m      2\u001b[0m \u001b[38;5;28mprint\u001b[39m(h\u001b[38;5;241m.\u001b[39mpark)\n",
      "\u001b[1;31mNameError\u001b[0m: name 'h' is not defined"
     ]
    }
   ],
   "source": [
    "h.park = 78\n",
    "print(h.park)"
   ]
  },
  {
   "cell_type": "markdown",
   "id": "7f272a2f",
   "metadata": {},
   "source": [
    "### Literals \n",
    "Literals in python are basically data items that have a fixed/constant values , there various kind of literals as given below -"
   ]
  },
  {
   "cell_type": "markdown",
   "id": "9ba1a466",
   "metadata": {},
   "source": [
    "###### String Literals \n",
    "        a.Single Line Strings - Must terminate in one line , represented by ' or \"\n",
    "        b.Multi Line Strings - These are spread across multiple lines , represented by \"\"\" or '''"
   ]
  },
  {
   "cell_type": "code",
   "execution_count": 8,
   "id": "ca97ec55",
   "metadata": {},
   "outputs": [
    {
     "name": "stdout",
     "output_type": "stream",
     "text": [
      "Hello World\n"
     ]
    }
   ],
   "source": [
    "text = 'Hello World'\n",
    "print(text)"
   ]
  },
  {
   "cell_type": "code",
   "execution_count": 9,
   "id": "5e98cc1f",
   "metadata": {},
   "outputs": [
    {
     "ename": "SyntaxError",
     "evalue": "unterminated string literal (detected at line 1) (3934927445.py, line 1)",
     "output_type": "error",
     "traceback": [
      "\u001b[1;36m  Input \u001b[1;32mIn [9]\u001b[1;36m\u001b[0m\n\u001b[1;33m    text1 = ' Hello\u001b[0m\n\u001b[1;37m            ^\u001b[0m\n\u001b[1;31mSyntaxError\u001b[0m\u001b[1;31m:\u001b[0m unterminated string literal (detected at line 1)\n"
     ]
    }
   ],
   "source": [
    "text1 = ' Hello\n",
    "World '\n",
    "print(text1)"
   ]
  },
  {
   "cell_type": "markdown",
   "id": "7ac33687",
   "metadata": {},
   "source": [
    "As we can see above with a ' , the multi line string assignment threw us an error. now let's have a look at how multi line strings can be written"
   ]
  },
  {
   "cell_type": "code",
   "execution_count": 10,
   "id": "25b22942",
   "metadata": {},
   "outputs": [
    {
     "name": "stdout",
     "output_type": "stream",
     "text": [
      "Hello world , this have been\n",
      "a wonderful year\n",
      "for all of us\n"
     ]
    }
   ],
   "source": [
    "text2 = '''Hello world , this have been\n",
    "a wonderful year\n",
    "for all of us'''\n",
    "print(text2)"
   ]
  },
  {
   "cell_type": "markdown",
   "id": "e5eeed26",
   "metadata": {},
   "source": [
    "There are a lot of string theories and methods present in Python which we will be learning later on."
   ]
  },
  {
   "cell_type": "markdown",
   "id": "e1d1b1d4",
   "metadata": {},
   "source": [
    "###### Escape Sequenece\n",
    "Now what are escape sequeneces , let's learn about them. escape sequenece or escape characters in python helps us to escape an error that might occur in our programme due to our mistakes , escape sequeneces are denoted with backslash. let's have a look at one example below -"
   ]
  },
  {
   "cell_type": "markdown",
   "id": "6b0a4c70",
   "metadata": {},
   "source": [
    "In this programme we are trying to print the sentence - Hi how are you ? what's up ? - But we are trying to enclose our sentence with ' and also while writing what's up we are using ' so two ' in between one string will throw an error as our python interpreter will get confused , it'll think that with second ' present after 'what' , our string is terminated , let's see"
   ]
  },
  {
   "cell_type": "code",
   "execution_count": 11,
   "id": "d29548d0",
   "metadata": {},
   "outputs": [
    {
     "ename": "SyntaxError",
     "evalue": "unterminated string literal (detected at line 1) (2711372986.py, line 1)",
     "output_type": "error",
     "traceback": [
      "\u001b[1;36m  Input \u001b[1;32mIn [11]\u001b[1;36m\u001b[0m\n\u001b[1;33m    txt = 'Hi how are you? what's up'\u001b[0m\n\u001b[1;37m                                    ^\u001b[0m\n\u001b[1;31mSyntaxError\u001b[0m\u001b[1;31m:\u001b[0m unterminated string literal (detected at line 1)\n"
     ]
    }
   ],
   "source": [
    "txt = 'Hi how are you? what's up'\n",
    "print(txt)"
   ]
  },
  {
   "cell_type": "markdown",
   "id": "85b4dd24",
   "metadata": {},
   "source": [
    "We can avoid this error using escape sequence , the escape sequence for ' is backslash' , let's see"
   ]
  },
  {
   "cell_type": "code",
   "execution_count": 12,
   "id": "fb275114",
   "metadata": {},
   "outputs": [
    {
     "name": "stdout",
     "output_type": "stream",
     "text": [
      "Hi how are you? what's up\n"
     ]
    }
   ],
   "source": [
    "txt1 = 'Hi how are you? what\\'s up'\n",
    "print(txt1)"
   ]
  },
  {
   "cell_type": "markdown",
   "id": "0d7f0c5f",
   "metadata": {},
   "source": [
    "There are other escape sequences present as given below -"
   ]
  },
  {
   "cell_type": "code",
   "execution_count": 13,
   "id": "21af0f90",
   "metadata": {},
   "outputs": [
    {
     "name": "stdout",
     "output_type": "stream",
     "text": [
      "Hello , this is \n",
      " new line\n"
     ]
    }
   ],
   "source": [
    "# New Line Character , \\n is developing a new line without using multiline string quotes\n",
    "txt2 = 'Hello , this is \\n new line'\n",
    "print(txt2)"
   ]
  },
  {
   "cell_type": "code",
   "execution_count": 14,
   "id": "8c82f9a5",
   "metadata": {},
   "outputs": [
    {
     "name": "stdout",
     "output_type": "stream",
     "text": [
      "Hello world , \\ how are you ?\n"
     ]
    }
   ],
   "source": [
    "# Backslash character , \\\\ this provides backslash in the string\n",
    "txt3 = \"Hello world , \\\\ how are you ?\"\n",
    "print(txt3)"
   ]
  },
  {
   "cell_type": "markdown",
   "id": "f8fd6b41",
   "metadata": {},
   "source": [
    "#### Carriage Return\n",
    "We do have a escape sequence for carriage return as well , denoted with backslash r , but first let's understand , what it does , as you can see below , we have used the carriage return escape sequence below , the string value here is hello world , the moment i printed the statement , as escape character is placed between hello and world , the cursour return to the begining of the line taking the part of the string (world) with it and overwritten hello with it , so it fed the line as well, this particular event that occured is called carriage return and line feed."
   ]
  },
  {
   "cell_type": "code",
   "execution_count": 15,
   "id": "fee39a41",
   "metadata": {},
   "outputs": [
    {
     "name": "stdout",
     "output_type": "stream",
     "text": [
      "hello \r",
      " world\n"
     ]
    }
   ],
   "source": [
    "txt4 = \"hello \\r world\"\n",
    "print(txt4)"
   ]
  },
  {
   "cell_type": "markdown",
   "id": "ccc4148e",
   "metadata": {},
   "source": [
    "Now if my first part of the string has more characters than the part defined after carriage return then only the number of characters in the first part will be replaces , suppose if we write \"Hello123456 world\" as the string value then in this escape sequence world123456 will be printed."
   ]
  },
  {
   "cell_type": "code",
   "execution_count": 16,
   "id": "eb244605",
   "metadata": {},
   "outputs": [
    {
     "name": "stdout",
     "output_type": "stream",
     "text": [
      "hello123456 \r",
      " world\n"
     ]
    }
   ],
   "source": [
    "txt10 = \"hello123456 \\r world\"\n",
    "print(txt10)"
   ]
  },
  {
   "cell_type": "markdown",
   "id": "9542b899",
   "metadata": {},
   "source": [
    "#### Unicode \n",
    "Every letter in alphabets posees an ASCII value , and ASCII values of the letters have 8 bit binary values and that's how it gets stored in the storage. In C langugae datas are stored in ASCII Values but in Python unicode is used."
   ]
  },
  {
   "cell_type": "markdown",
   "id": "600a1000",
   "metadata": {},
   "source": [
    "Below is an example how we can find Ascii value of a character and the reversal of it , with ord and chr function"
   ]
  },
  {
   "cell_type": "code",
   "execution_count": 17,
   "id": "33a6520c",
   "metadata": {},
   "outputs": [
    {
     "name": "stdout",
     "output_type": "stream",
     "text": [
      "72\n",
      "H\n"
     ]
    }
   ],
   "source": [
    "# ASCII value of 'H' is 72 and character value of 72 is 'H'\n",
    "print(ord(\"H\"))\n",
    "print(chr(72))"
   ]
  },
  {
   "cell_type": "code",
   "execution_count": 18,
   "id": "0561dff8",
   "metadata": {},
   "outputs": [
    {
     "name": "stdout",
     "output_type": "stream",
     "text": [
      "104\n",
      "h\n"
     ]
    }
   ],
   "source": [
    "# As we can see , these are case sensative , \n",
    "# upper case H has a different ASCII value than the smaller case one.\n",
    "print(ord(\"h\"))\n",
    "print(chr(104))"
   ]
  },
  {
   "cell_type": "markdown",
   "id": "4ad7e428",
   "metadata": {},
   "source": [
    "In the below section , the letter uppercase 'H' is being converted into Binay from it's ASCII value"
   ]
  },
  {
   "cell_type": "code",
   "execution_count": 19,
   "id": "56e1c382",
   "metadata": {},
   "outputs": [
    {
     "name": "stdout",
     "output_type": "stream",
     "text": [
      "0b1001000\n"
     ]
    }
   ],
   "source": [
    "# Python program to illustrate the\n",
    "# conversion of ASCII to Binary \n",
    "# Calling string.encode() function to\n",
    "# turn the specified string into an array\n",
    "# of bytes\n",
    "byte_array = \"H\".encode()\n",
    "# Converting the byte_array into a binary\n",
    "# integer\n",
    "# byte order given as 'big' (can be big or little only)\n",
    "binary_int = int.from_bytes(byte_array,\"big\")\n",
    "# Converting binary_int to a string of\n",
    "# binary characters\n",
    "binary_string = bin(binary_int)\n",
    "# Getting the converted binary characters\n",
    "print(binary_string)"
   ]
  },
  {
   "cell_type": "markdown",
   "id": "2ddbba6c",
   "metadata": {},
   "source": [
    "So it can be see that for letter \"H\" , the ASCII Value is 72 and Binary value is 0b1001000"
   ]
  },
  {
   "cell_type": "markdown",
   "id": "83a45463",
   "metadata": {},
   "source": [
    "As of now we only attempted to find the ASCII value of a character , with the help of an for loop we can find the ASCII value of an entire string as below "
   ]
  },
  {
   "cell_type": "code",
   "execution_count": 20,
   "id": "c2147c0c",
   "metadata": {},
   "outputs": [
    {
     "name": "stdout",
     "output_type": "stream",
     "text": [
      "[72, 101, 108, 108, 111, 32, 119, 111, 114, 108, 100, 32, 44, 32, 104, 111, 119, 32, 97, 114, 101, 32, 121, 111, 117]\n"
     ]
    }
   ],
   "source": [
    "string = \"Hello world , how are you\"\n",
    "x = []\n",
    "for s in string:\n",
    "    x.append(ord(s))\n",
    "print(x)"
   ]
  },
  {
   "cell_type": "markdown",
   "id": "ce9f5c9f",
   "metadata": {},
   "source": [
    "###### Horizontal tab\n",
    "Backslash t , adds on spaces in between strings , this is an escape sequence as well , we can also increase the space in between by providing the tabsize as argument."
   ]
  },
  {
   "cell_type": "code",
   "execution_count": 21,
   "id": "ab91ae9f",
   "metadata": {},
   "outputs": [
    {
     "name": "stdout",
     "output_type": "stream",
     "text": [
      "Hello \tWorld\n"
     ]
    }
   ],
   "source": [
    "txt8 = \"Hello \\tWorld\"\n",
    "print(txt8)"
   ]
  },
  {
   "cell_type": "code",
   "execution_count": 22,
   "id": "cff1d3e8",
   "metadata": {},
   "outputs": [
    {
     "name": "stdout",
     "output_type": "stream",
     "text": [
      "Hello          World\n"
     ]
    }
   ],
   "source": [
    "print(txt8.expandtabs(tabsize=15))"
   ]
  },
  {
   "cell_type": "markdown",
   "id": "740d0597",
   "metadata": {},
   "source": [
    "Backspace escape sequence takes cursor back in one space "
   ]
  },
  {
   "cell_type": "code",
   "execution_count": 23,
   "id": "16659e93",
   "metadata": {},
   "outputs": [
    {
     "name": "stdout",
     "output_type": "stream",
     "text": [
      "Hello\b World\n"
     ]
    }
   ],
   "source": [
    "txt20 = \"Hello\\b World\"\n",
    "print(txt20)"
   ]
  },
  {
   "cell_type": "markdown",
   "id": "2c5ed4d4",
   "metadata": {},
   "source": [
    "As we can see the cursor went one place backwards and removed \"o\""
   ]
  },
  {
   "cell_type": "markdown",
   "id": "50d28de7",
   "metadata": {},
   "source": [
    "## Numeric Literals\n",
    "These are basically numerical values , without decimal it's called integers , and with decimal points it's called floating point numbers"
   ]
  },
  {
   "cell_type": "markdown",
   "id": "22a389e7",
   "metadata": {},
   "source": [
    "#### Integer Forms\n",
    "1. Decimal - An integer begining with 1-9 , is called a decimal formed integer , as in 1456 ,2479 etc\n",
    "2. Octal - An integer begining with 0o (zero followed by the letter 'o') is octal formed integer , as in 0o32 ,0o67 etc\n",
    "3. Hexadecimal - An integer begining with 0x (Zero followed by the letter 'x') is hexa decimal formed integer. Also 0xAF is a hexadecimal integer , Remember valid digits for hexadecimal numbers are 1-9 , and valid letters for hexadecimal integers are A-F"
   ]
  },
  {
   "cell_type": "code",
   "execution_count": 24,
   "id": "1035c807",
   "metadata": {},
   "outputs": [
    {
     "name": "stdout",
     "output_type": "stream",
     "text": [
      "2345\n",
      "<class 'int'>\n"
     ]
    }
   ],
   "source": [
    "ad = 2345 #decimal integer\n",
    "print(ad)\n",
    "print(type(ad))"
   ]
  },
  {
   "cell_type": "code",
   "execution_count": 25,
   "id": "9134b27a",
   "metadata": {},
   "outputs": [
    {
     "name": "stdout",
     "output_type": "stream",
     "text": [
      "28\n",
      "<class 'int'>\n"
     ]
    }
   ],
   "source": [
    "ao = 0o34 #octal integer\n",
    "print(ao)\n",
    "print(type(ao))"
   ]
  },
  {
   "cell_type": "code",
   "execution_count": 26,
   "id": "78430cec",
   "metadata": {},
   "outputs": [
    {
     "name": "stdout",
     "output_type": "stream",
     "text": [
      "171\n",
      "<class 'int'>\n"
     ]
    }
   ],
   "source": [
    "ah = 0xAb #hexa decimal integer\n",
    "print(ah)\n",
    "print(type(ah))"
   ]
  },
  {
   "cell_type": "markdown",
   "id": "3bd86aea",
   "metadata": {},
   "source": [
    "The digit value of an octal , Hexa integer can be determined with 'int' function as shown below , we have seen above that 'ao' is an octal integer , ah is an hexa integer , and we will show below how to achieve it's digit value"
   ]
  },
  {
   "cell_type": "code",
   "execution_count": 32,
   "id": "f3eeee46",
   "metadata": {},
   "outputs": [
    {
     "name": "stdout",
     "output_type": "stream",
     "text": [
      "28\n",
      "171\n"
     ]
    }
   ],
   "source": [
    "print(int(ao))\n",
    "print(int(ah))"
   ]
  },
  {
   "cell_type": "markdown",
   "id": "5105aff3",
   "metadata": {},
   "source": [
    "In the samne manner , using oct() and hex() function we can convert a decimal integer into octal/hexadecimal integer , we are converting the ad , which is a decimal integer here"
   ]
  },
  {
   "cell_type": "code",
   "execution_count": 33,
   "id": "a125e7a4",
   "metadata": {},
   "outputs": [
    {
     "name": "stdout",
     "output_type": "stream",
     "text": [
      "0o4451\n",
      "0x929\n"
     ]
    }
   ],
   "source": [
    "print(oct(ad))\n",
    "print(hex(ad))"
   ]
  },
  {
   "cell_type": "markdown",
   "id": "1442c543",
   "metadata": {},
   "source": [
    "#### Floating Forms\n",
    "1. Fractional Form - numbers which are divided into two parts (integer and fractional) by a decimal point are the fractional point float numbers , as 13.0 ,-5.9 etc\n",
    "2. Exponent Form - These are represneted with E in between , such as 0.6E45 ,3.E45 etc\n",
    "\n",
    "The examples that we will look into below , we will also see their converted form in decimal integers using int"
   ]
  },
  {
   "cell_type": "code",
   "execution_count": 37,
   "id": "56b4cc27",
   "metadata": {},
   "outputs": [
    {
     "name": "stdout",
     "output_type": "stream",
     "text": [
      "-6.98\n",
      "<class 'float'>\n",
      "-6\n"
     ]
    }
   ],
   "source": [
    "af = -6.98  # Fractional form\n",
    "print(af)\n",
    "print(type(af))\n",
    "print(int(af))"
   ]
  },
  {
   "cell_type": "code",
   "execution_count": 38,
   "id": "e5e24b4c",
   "metadata": {},
   "outputs": [
    {
     "name": "stdout",
     "output_type": "stream",
     "text": [
      "8.9e+45\n",
      "<class 'float'>\n",
      "8899999999999999913591377415363901493482618880\n"
     ]
    }
   ],
   "source": [
    "ae = 8.9E45 # Exponent Form\n",
    "print(ae)\n",
    "print(type(ae))\n",
    "print(int(ae))"
   ]
  },
  {
   "cell_type": "markdown",
   "id": "72938b25",
   "metadata": {},
   "source": [
    "#### Complex Literal\n",
    "Thes numbers are represented in the form of a+bj , where a and b are floats and j/J representes root of -1 (This is the imaginary part) , lets have a look at example of the same and we will also see it's real and imaginary part seggregation as well"
   ]
  },
  {
   "cell_type": "code",
   "execution_count": 43,
   "id": "0e44755d",
   "metadata": {},
   "outputs": [
    {
     "name": "stdout",
     "output_type": "stream",
     "text": [
      "(56+8.9j)\n",
      "<class 'complex'>\n",
      "56.0\n",
      "8.9\n"
     ]
    }
   ],
   "source": [
    "ac = 56+8.90j # complex number\n",
    "print(ac)\n",
    "print(type(ac))\n",
    "print(ac.real)\n",
    "print(ac.imag)"
   ]
  },
  {
   "cell_type": "markdown",
   "id": "9e7757b7",
   "metadata": {},
   "source": [
    "### Boolean Literals\n",
    "Boolean literals are represented with True / False keywords , and these keywords are case sensative as well"
   ]
  },
  {
   "cell_type": "code",
   "execution_count": 44,
   "id": "fb3c8e98",
   "metadata": {},
   "outputs": [
    {
     "name": "stdout",
     "output_type": "stream",
     "text": [
      "True\n",
      "<class 'bool'>\n",
      "False\n",
      "<class 'bool'>\n"
     ]
    }
   ],
   "source": [
    "abt = True\n",
    "abf = False\n",
    "print(abt)\n",
    "print(type(abt))\n",
    "print(abf)\n",
    "print(type(abf))"
   ]
  },
  {
   "cell_type": "markdown",
   "id": "d342e495",
   "metadata": {},
   "source": [
    "### Special Literal\n",
    "Python has a special lietral stated as ' None ' , it indicates the absence of a value. Let's have a look into it's example , it's defined as 'NoneType'"
   ]
  },
  {
   "cell_type": "code",
   "execution_count": 46,
   "id": "6de6fff0",
   "metadata": {},
   "outputs": [
    {
     "name": "stdout",
     "output_type": "stream",
     "text": [
      "None\n",
      "<class 'NoneType'>\n"
     ]
    }
   ],
   "source": [
    "asp = None\n",
    "print(asp)\n",
    "print(type(asp))"
   ]
  },
  {
   "cell_type": "code",
   "execution_count": 30,
   "id": "a84e01af",
   "metadata": {},
   "outputs": [
    {
     "name": "stdout",
     "output_type": "stream",
     "text": [
      "None\n"
     ]
    }
   ],
   "source": [
    "lst = [5,8,1,6,3,10,95,56]\n",
    "print(lst.sort(reverse = True))"
   ]
  },
  {
   "cell_type": "code",
   "execution_count": null,
   "id": "68e384e1",
   "metadata": {},
   "outputs": [],
   "source": []
  }
 ],
 "metadata": {
  "kernelspec": {
   "display_name": "Python 3 (ipykernel)",
   "language": "python",
   "name": "python3"
  },
  "language_info": {
   "codemirror_mode": {
    "name": "ipython",
    "version": 3
   },
   "file_extension": ".py",
   "mimetype": "text/x-python",
   "name": "python",
   "nbconvert_exporter": "python",
   "pygments_lexer": "ipython3",
   "version": "3.10.3"
  }
 },
 "nbformat": 4,
 "nbformat_minor": 5
}
