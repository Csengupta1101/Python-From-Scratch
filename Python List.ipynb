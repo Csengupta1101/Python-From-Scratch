{
 "cells": [
  {
   "cell_type": "code",
   "execution_count": 7,
   "metadata": {},
   "outputs": [
    {
     "name": "stdout",
     "output_type": "stream",
     "text": [
      "[40, 63, 48, 18]\n"
     ]
    }
   ],
   "source": [
    "# list element multiplication\n",
    "l1 = [5,7,8,6]\n",
    "l2 = [8,9,6,3]\n",
    "l3 = []\n",
    "j = 0\n",
    "for i in l1:\n",
    "    k = i*(l2[j])\n",
    "    j = j+1\n",
    "    l3.append(k)\n",
    "print(l3)"
   ]
  },
  {
   "cell_type": "code",
   "execution_count": 8,
   "metadata": {},
   "outputs": [
    {
     "name": "stdout",
     "output_type": "stream",
     "text": [
      "[15, 42, 72, 48]\n"
     ]
    }
   ],
   "source": [
    "# opposite multiplication\n",
    "l1 = [5,7,8,6]\n",
    "l2 = [8,9,6,3]\n",
    "l3 = []\n",
    "j = (int(len(l2))-1)\n",
    "for i in l1:\n",
    "    k = i*(l2[j])\n",
    "    j = j-1\n",
    "    l3.append(k)\n",
    "print(l3)\n"
   ]
  },
  {
   "cell_type": "code",
   "execution_count": 34,
   "metadata": {},
   "outputs": [
    {
     "name": "stdout",
     "output_type": "stream",
     "text": [
      "[9, 8, 6, 3]\n"
     ]
    }
   ],
   "source": [
    "# sorting a list\n",
    "l2 = [8,9,6,3]\n",
    "l3 = []\n",
    "for i in range(len(l2)):\n",
    "    k = max(l2)\n",
    "    l2.remove(k)\n",
    "    l3.append(k)\n",
    "print(l3)\n"
   ]
  },
  {
   "cell_type": "code",
   "execution_count": null,
   "metadata": {},
   "outputs": [],
   "source": [
    "l1 = [[6,8,9],[6,1,3],[90,76,4]]\n",
    "j = 0\n",
    "for i in l1:\n",
    "    \n"
   ]
  },
  {
   "cell_type": "code",
   "execution_count": null,
   "metadata": {},
   "outputs": [],
   "source": []
  }
 ],
 "metadata": {
  "kernelspec": {
   "display_name": "Python 3.9.13",
   "language": "python",
   "name": "python3"
  },
  "language_info": {
   "codemirror_mode": {
    "name": "ipython",
    "version": 3
   },
   "file_extension": ".py",
   "mimetype": "text/x-python",
   "name": "python",
   "nbconvert_exporter": "python",
   "pygments_lexer": "ipython3",
   "version": "3.9.13"
  },
  "orig_nbformat": 4,
  "vscode": {
   "interpreter": {
    "hash": "c715fae038ea3023ce1b7da7ba9885d98010e1b6ab84c7b957e0940952b2221c"
   }
  }
 },
 "nbformat": 4,
 "nbformat_minor": 2
}
