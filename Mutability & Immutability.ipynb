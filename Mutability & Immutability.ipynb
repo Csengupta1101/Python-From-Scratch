{
 "cells": [
  {
   "cell_type": "markdown",
   "id": "4fe5e5cd",
   "metadata": {},
   "source": [
    "We often gets under the misconceptation of this paradox. Immutable is something that can't be changed and mutable is something that can be changed. But no , let's phrase it like this ..."
   ]
  },
  {
   "cell_type": "markdown",
   "id": "a6a39300",
   "metadata": {},
   "source": [
    "### Immutable\n",
    "Immutable are those types of data in Python for which the value or the memory location never gets changed , if a different value is given to a variable of any of the data type as denoted then the respective memory location will be changed, the immutable data types in python are integers , floats , booleans , strings , tuples"
   ]
  },
  {
   "cell_type": "code",
   "execution_count": 1,
   "id": "b7340e5b",
   "metadata": {},
   "outputs": [
    {
     "name": "stdout",
     "output_type": "stream",
     "text": [
      "45\n"
     ]
    }
   ],
   "source": [
    "# Integer Type\n",
    "a = 45\n",
    "print(a)"
   ]
  },
  {
   "cell_type": "code",
   "execution_count": 2,
   "id": "b1f28501",
   "metadata": {},
   "outputs": [
    {
     "name": "stdout",
     "output_type": "stream",
     "text": [
      "The memory location of a is 2152848950896\n"
     ]
    }
   ],
   "source": [
    "print(\"The memory location of a is\",id(a))"
   ]
  },
  {
   "cell_type": "code",
   "execution_count": 3,
   "id": "308dc0f9",
   "metadata": {},
   "outputs": [
    {
     "name": "stdout",
     "output_type": "stream",
     "text": [
      "The value of a is 50\n",
      "The memory location of a is 2152848951056\n"
     ]
    }
   ],
   "source": [
    "# Now we will change the integer value assigned to a and will try to find it's memory location\n",
    "a = 50\n",
    "print(\"The value of a is\",a)\n",
    "print(\"The memory location of a is\",id(a))"
   ]
  },
  {
   "cell_type": "code",
   "execution_count": 4,
   "id": "5133e095",
   "metadata": {},
   "outputs": [
    {
     "name": "stdout",
     "output_type": "stream",
     "text": [
      "The memory location of b is 2152930573904\n"
     ]
    }
   ],
   "source": [
    "# Floats\n",
    "b = 45.13\n",
    "print(\"The memory location of b is\",id(b))"
   ]
  },
  {
   "cell_type": "code",
   "execution_count": 5,
   "id": "a69502a4",
   "metadata": {},
   "outputs": [
    {
     "name": "stdout",
     "output_type": "stream",
     "text": [
      "The memory location of b is 2152927775920\n"
     ]
    }
   ],
   "source": [
    "b = 48.13\n",
    "print(\"The memory location of b is\",id(b))"
   ]
  },
  {
   "cell_type": "code",
   "execution_count": 6,
   "id": "b5e97c33",
   "metadata": {},
   "outputs": [
    {
     "name": "stdout",
     "output_type": "stream",
     "text": [
      "The memory location of c is 2152931435248\n"
     ]
    }
   ],
   "source": [
    "# Strings\n",
    "c = \"harry Potter\"\n",
    "print(\"The memory location of c is\",id(c))"
   ]
  },
  {
   "cell_type": "code",
   "execution_count": 7,
   "id": "cb17b5b1",
   "metadata": {},
   "outputs": [
    {
     "name": "stdout",
     "output_type": "stream",
     "text": [
      "The memory location of c is 2152931316336\n"
     ]
    }
   ],
   "source": [
    "c = \"ron weasley\"\n",
    "print(\"The memory location of c is\",id(c))"
   ]
  },
  {
   "cell_type": "code",
   "execution_count": 8,
   "id": "939cf744",
   "metadata": {},
   "outputs": [
    {
     "name": "stdout",
     "output_type": "stream",
     "text": [
      "(5, 7, 1, 2)\n"
     ]
    }
   ],
   "source": [
    "# Tuples\n",
    "at = (5,7,1,2)\n",
    "print(at)"
   ]
  },
  {
   "cell_type": "code",
   "execution_count": 9,
   "id": "43e6209a",
   "metadata": {},
   "outputs": [
    {
     "name": "stdout",
     "output_type": "stream",
     "text": [
      "<class 'tuple'>\n"
     ]
    }
   ],
   "source": [
    "print(type(at))"
   ]
  },
  {
   "cell_type": "code",
   "execution_count": 10,
   "id": "86eba72c",
   "metadata": {},
   "outputs": [
    {
     "name": "stdout",
     "output_type": "stream",
     "text": [
      "The memory location of at tuple is 2152931055456\n"
     ]
    }
   ],
   "source": [
    "print(\"The memory location of at tuple is\",id(at))"
   ]
  },
  {
   "cell_type": "code",
   "execution_count": 11,
   "id": "e411c5ba",
   "metadata": {},
   "outputs": [
    {
     "ename": "TypeError",
     "evalue": "'tuple' object does not support item assignment",
     "output_type": "error",
     "traceback": [
      "\u001b[1;31m---------------------------------------------------------------------------\u001b[0m",
      "\u001b[1;31mTypeError\u001b[0m                                 Traceback (most recent call last)",
      "Input \u001b[1;32mIn [11]\u001b[0m, in \u001b[0;36m<cell line: 2>\u001b[1;34m()\u001b[0m\n\u001b[0;32m      1\u001b[0m \u001b[38;5;66;03m# attempting to change tuple element\u001b[39;00m\n\u001b[1;32m----> 2\u001b[0m at[\u001b[38;5;241m0\u001b[39m] \u001b[38;5;241m=\u001b[39m \u001b[38;5;241m9\u001b[39m\n",
      "\u001b[1;31mTypeError\u001b[0m: 'tuple' object does not support item assignment"
     ]
    }
   ],
   "source": [
    "# attempting to change tuple element\n",
    "at[0] = 9"
   ]
  },
  {
   "cell_type": "markdown",
   "id": "a0ab2f0e",
   "metadata": {},
   "source": [
    "### Mutable\n",
    "Mutable are those data types where the changed value of a data type gets stored in the same memory location itself"
   ]
  },
  {
   "cell_type": "code",
   "execution_count": 12,
   "id": "f5c789ec",
   "metadata": {},
   "outputs": [
    {
     "name": "stdout",
     "output_type": "stream",
     "text": [
      "[12, 45, 687]\n",
      "The memory location of l1 list is 2152959664704\n"
     ]
    }
   ],
   "source": [
    "# Lists\n",
    "l1 = [12,45,687]\n",
    "print(l1)\n",
    "print(\"The memory location of l1 list is\",id(l1))"
   ]
  },
  {
   "cell_type": "code",
   "execution_count": 13,
   "id": "0e625961",
   "metadata": {},
   "outputs": [
    {
     "name": "stdout",
     "output_type": "stream",
     "text": [
      "[12, 546, 687]\n",
      "The memory location of l1 list is 2152959664704\n"
     ]
    }
   ],
   "source": [
    "# Changing element in list\n",
    "l1[1] = 546\n",
    "print(l1)\n",
    "print(\"The memory location of l1 list is\",id(l1))"
   ]
  },
  {
   "cell_type": "code",
   "execution_count": 14,
   "id": "22c6178a",
   "metadata": {},
   "outputs": [
    {
     "name": "stdout",
     "output_type": "stream",
     "text": [
      "{'harry', 678, 23}\n",
      "<class 'set'>\n"
     ]
    }
   ],
   "source": [
    "# Sets\n",
    "s1 = {23,\"harry\",678}\n",
    "print(s1)\n",
    "print(type(s1))"
   ]
  },
  {
   "cell_type": "code",
   "execution_count": 15,
   "id": "40bd9b29",
   "metadata": {},
   "outputs": [
    {
     "name": "stdout",
     "output_type": "stream",
     "text": [
      "The memory location of s1 set is 2152931602528\n"
     ]
    }
   ],
   "source": [
    "print(\"The memory location of s1 set is\",id(s1))"
   ]
  },
  {
   "cell_type": "code",
   "execution_count": 17,
   "id": "c46f0fa7",
   "metadata": {},
   "outputs": [
    {
     "name": "stdout",
     "output_type": "stream",
     "text": [
      "{'ron', 'harry', 678, 23}\n",
      "<class 'set'>\n"
     ]
    }
   ],
   "source": [
    "s1.add(\"ron\")\n",
    "print(s1)\n",
    "print(type(s1))"
   ]
  },
  {
   "cell_type": "code",
   "execution_count": 18,
   "id": "19f05c1e",
   "metadata": {},
   "outputs": [
    {
     "name": "stdout",
     "output_type": "stream",
     "text": [
      "The memory location of s1 set is 2152931602528\n"
     ]
    }
   ],
   "source": [
    "print(\"The memory location of s1 set is\",id(s1))"
   ]
  },
  {
   "cell_type": "code",
   "execution_count": 19,
   "id": "9ed170ff",
   "metadata": {},
   "outputs": [
    {
     "name": "stdout",
     "output_type": "stream",
     "text": [
      "{'name': 'Daniel', 'company': 'spotify', 'revenue': 25000000}\n",
      "<class 'dict'>\n"
     ]
    }
   ],
   "source": [
    "# Dictionary\n",
    "d1 = {'name':'Daniel','company':'spotify','revenue':25000000}\n",
    "print(d1)\n",
    "print(type(d1))"
   ]
  },
  {
   "cell_type": "code",
   "execution_count": 20,
   "id": "a181bc03",
   "metadata": {},
   "outputs": [
    {
     "name": "stdout",
     "output_type": "stream",
     "text": [
      "The memory location of d1 dictionary is 2152959670656\n"
     ]
    }
   ],
   "source": [
    "print(\"The memory location of d1 dictionary is\",id(d1))"
   ]
  },
  {
   "cell_type": "code",
   "execution_count": 22,
   "id": "0d974eb6",
   "metadata": {},
   "outputs": [
    {
     "name": "stdout",
     "output_type": "stream",
     "text": [
      "{'name': 'Martin', 'company': 'spotify', 'revenue': 25000000}\n",
      "<class 'dict'>\n",
      "The memory location of d1 dictionary is 2152959670656\n"
     ]
    }
   ],
   "source": [
    "d1['name'] = 'Martin'\n",
    "print(d1)\n",
    "print(type(d1))\n",
    "print(\"The memory location of d1 dictionary is\",id(d1))"
   ]
  },
  {
   "cell_type": "code",
   "execution_count": null,
   "id": "0bf7e002",
   "metadata": {},
   "outputs": [],
   "source": []
  }
 ],
 "metadata": {
  "kernelspec": {
   "display_name": "github1",
   "language": "python",
   "name": "python3"
  },
  "language_info": {
   "codemirror_mode": {
    "name": "ipython",
    "version": 3
   },
   "file_extension": ".py",
   "mimetype": "text/x-python",
   "name": "python",
   "nbconvert_exporter": "python",
   "pygments_lexer": "ipython3",
   "version": "3.10.8 | packaged by conda-forge | (main, Nov 24 2022, 14:07:00) [MSC v.1916 64 bit (AMD64)]"
  },
  "vscode": {
   "interpreter": {
    "hash": "e2f1f49a464b0261529b7f879af28a2fa50ede0bedb86dbf326bb328bc03475b"
   }
  }
 },
 "nbformat": 4,
 "nbformat_minor": 5
}
