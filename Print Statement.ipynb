{
 "cells": [
  {
   "cell_type": "markdown",
   "id": "119506eb",
   "metadata": {},
   "source": [
    "Python print statement is an wonderland , so much can be achieved using just the basic print statement."
   ]
  },
  {
   "cell_type": "code",
   "execution_count": 5,
   "id": "7ac6c6a4",
   "metadata": {},
   "outputs": [
    {
     "name": "stdout",
     "output_type": "stream",
     "text": [
      "my name is joy\n"
     ]
    }
   ],
   "source": [
    "# Insertion of space as an automatic separator argument\n",
    "print(\"my\",\"name\",\"is\",\"joy\")"
   ]
  },
  {
   "cell_type": "code",
   "execution_count": 7,
   "id": "efc6a892",
   "metadata": {},
   "outputs": [
    {
     "name": "stdout",
     "output_type": "stream",
     "text": [
      "my.....name.....is.....joy\n"
     ]
    }
   ],
   "source": [
    "# value of separator can be given by the user itself as well\n",
    "print(\"my\",\"name\",\"is\",\"joy\",sep = '.....')"
   ]
  },
  {
   "cell_type": "code",
   "execution_count": 8,
   "id": "b8661170",
   "metadata": {},
   "outputs": [
    {
     "name": "stdout",
     "output_type": "stream",
     "text": [
      "Hi , I am rohit\n",
      "I play for team India\n"
     ]
    }
   ],
   "source": [
    "# Without a given end argument , python appends a new print statement on a new structured line\n",
    "print(\"Hi , I am rohit\")\n",
    "print(\"I play for team India\")"
   ]
  },
  {
   "cell_type": "code",
   "execution_count": 10,
   "id": "d31a861c",
   "metadata": {},
   "outputs": [
    {
     "name": "stdout",
     "output_type": "stream",
     "text": [
      "Hi , I am rohit & I play for team India\n"
     ]
    }
   ],
   "source": [
    "# With a given end argument in the initial print statment , new line doesn't get printed\n",
    "# Instead the end argument gets printed\n",
    "print(\"Hi , I am rohit\",end = ' & ')\n",
    "print(\"I play for team India\")"
   ]
  },
  {
   "cell_type": "code",
   "execution_count": null,
   "id": "df438fa7",
   "metadata": {},
   "outputs": [],
   "source": []
  }
 ],
 "metadata": {
  "kernelspec": {
   "display_name": "Python 3 (ipykernel)",
   "language": "python",
   "name": "python3"
  },
  "language_info": {
   "codemirror_mode": {
    "name": "ipython",
    "version": 3
   },
   "file_extension": ".py",
   "mimetype": "text/x-python",
   "name": "python",
   "nbconvert_exporter": "python",
   "pygments_lexer": "ipython3",
   "version": "3.10.3"
  }
 },
 "nbformat": 4,
 "nbformat_minor": 5
}
