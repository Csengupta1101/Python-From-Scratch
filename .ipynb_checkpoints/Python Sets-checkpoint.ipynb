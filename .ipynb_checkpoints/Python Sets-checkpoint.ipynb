{
 "cells": [
  {
   "cell_type": "markdown",
   "metadata": {},
   "source": [
    "#### Python Set\n",
    "\n",
    "Set is a well defined data structure in python , it's a collection of DISTINCT and UNORDERED elements. Set is defined with {} in python."
   ]
  },
  {
   "cell_type": "code",
   "execution_count": 1,
   "metadata": {},
   "outputs": [
    {
     "name": "stdout",
     "output_type": "stream",
     "text": [
      "{8, 9, 5, 6}\n",
      "<class 'set'>\n"
     ]
    }
   ],
   "source": [
    "a = {5,6,8,9}\n",
    "print(a)\n",
    "print(type(a))"
   ]
  },
  {
   "cell_type": "markdown",
   "metadata": {},
   "source": [
    "In the above example we have seen how a set can be declared in python. now we see that the items in the set a is distinct. While printing the set it's clearly seen that the order we passed on to the set while declaring is not followed. This is because set is unordered , it doesn't follow a specific set of order. Let's take another set into consideration now"
   ]
  },
  {
   "cell_type": "code",
   "execution_count": 2,
   "metadata": {},
   "outputs": [
    {
     "name": "stdout",
     "output_type": "stream",
     "text": [
      "{8, 9, 5, 6}\n",
      "<class 'set'>\n"
     ]
    }
   ],
   "source": [
    "b = {9,8,6,5}\n",
    "print(b)\n",
    "print(type(b))"
   ]
  },
  {
   "cell_type": "markdown",
   "metadata": {},
   "source": [
    "Now in the above example the elements are same as given above in the set a , so set a and set b contains the same elements inside of it and none of them follows any order.\n",
    "\n",
    "Now let's try to provide duplicate inputs inside of the set and see what happens."
   ]
  },
  {
   "cell_type": "code",
   "execution_count": 3,
   "metadata": {},
   "outputs": [
    {
     "name": "stdout",
     "output_type": "stream",
     "text": [
      "{3, 4, 5, 6, 9}\n",
      "<class 'set'>\n"
     ]
    }
   ],
   "source": [
    "c = {5,4,4,6,9,3,4,9}\n",
    "print(c)\n",
    "print(type(c))"
   ]
  },
  {
   "cell_type": "markdown",
   "metadata": {},
   "source": [
    "We can see over here that despite providing 4 and 9 as multiple inputs inside of our set , while printing it only once it occured. This proves that the set can only contain distinct values."
   ]
  },
  {
   "cell_type": "code",
   "execution_count": 4,
   "metadata": {},
   "outputs": [
    {
     "name": "stdout",
     "output_type": "stream",
     "text": [
      "the memory location of set a is 2002640956544\n",
      "the memory location of set b is 2002640956768\n",
      "the memory location of set c is 2002640956992\n"
     ]
    }
   ],
   "source": [
    "print(f\"the memory location of set a is {id(a)}\")\n",
    "print(f\"the memory location of set b is {id(b)}\")\n",
    "print(f\"the memory location of set c is {id(c)}\")"
   ]
  },
  {
   "cell_type": "markdown",
   "metadata": {},
   "source": [
    "In the above line we are able to see that all the diferent sets are stored in different memory locations."
   ]
  },
  {
   "cell_type": "code",
   "execution_count": 5,
   "metadata": {},
   "outputs": [
    {
     "name": "stdout",
     "output_type": "stream",
     "text": [
      "{5, 6, 8, 9, 15}\n",
      "<class 'set'>\n",
      "the memory location of set a is 2002640956544\n"
     ]
    }
   ],
   "source": [
    "a.add(15)\n",
    "print(a)\n",
    "print(type(a))\n",
    "print(f\"the memory location of set a is {id(a)}\")"
   ]
  },
  {
   "cell_type": "markdown",
   "metadata": {},
   "source": [
    "In the above line we have seen that items can be added in python set but that doesn't change the memory location or the address of the particular set. Also it defines the add methos in set that allows us to add elements inside of a set."
   ]
  },
  {
   "cell_type": "code",
   "execution_count": 7,
   "metadata": {},
   "outputs": [
    {
     "name": "stdout",
     "output_type": "stream",
     "text": [
      "{3, 4, 5, 6, 8, 9, 15}\n",
      "<class 'set'>\n",
      "the memory location of set a is 2002640956544\n"
     ]
    }
   ],
   "source": [
    "a.update(c)\n",
    "print(a)\n",
    "print(type(a))\n",
    "print(f\"the memory location of set a is {id(a)}\")\n"
   ]
  },
  {
   "cell_type": "markdown",
   "metadata": {},
   "source": [
    "In the above line we are able to see that with the help of update method we are able to add elements from another set into the current set , in this example we have added elements from set c to set a."
   ]
  },
  {
   "cell_type": "code",
   "execution_count": 10,
   "metadata": {},
   "outputs": [
    {
     "name": "stdout",
     "output_type": "stream",
     "text": [
      "{89, 36, 45, 78}\n",
      "2002653978912\n",
      "set()\n",
      "2002653978912\n"
     ]
    }
   ],
   "source": [
    "d = {45,78,89,36}\n",
    "print(d)\n",
    "print(id(d))\n",
    "d.clear()\n",
    "print(d)\n",
    "print(id(d))"
   ]
  },
  {
   "cell_type": "markdown",
   "metadata": {},
   "source": [
    "In the above example we have seen that how with the help of clear method we are able to empty the elements from inside of a set , and how the blank set gets printed with the same memory location."
   ]
  },
  {
   "cell_type": "code",
   "execution_count": 11,
   "metadata": {},
   "outputs": [
    {
     "name": "stdout",
     "output_type": "stream",
     "text": [
      "{3, 4, 5, 6, 8, 9, 15}\n",
      "<class 'set'>\n",
      "the memory location of a is 2002640956544\n",
      "{3, 4, 5, 6, 8, 9, 15}\n",
      "the memory location of e is 2002654715968\n"
     ]
    }
   ],
   "source": [
    "print(a)\n",
    "print(type(a))\n",
    "print(f\"the memory location of a is {id(a)}\")\n",
    "e = a.copy()\n",
    "print(e)\n",
    "print(f\"the memory location of e is {id(e)}\")"
   ]
  },
  {
   "cell_type": "markdown",
   "metadata": {},
   "source": [
    "In the above method we are able to see that how we can copy one set into another and the copied set will be contained in a different memory location."
   ]
  },
  {
   "cell_type": "code",
   "execution_count": 13,
   "metadata": {},
   "outputs": [
    {
     "name": "stdout",
     "output_type": "stream",
     "text": [
      "the difference of elements is {32, 45, 7}\n"
     ]
    }
   ],
   "source": [
    "ab = {4,7,32,1,45}\n",
    "bc = {4,78,1,49,55}\n",
    "print(f\"the difference of elements is {ab.difference(bc)}\")"
   ]
  },
  {
   "cell_type": "markdown",
   "metadata": {},
   "source": [
    "In the above example we have seen how we can identify the different elements between two sets."
   ]
  },
  {
   "cell_type": "code",
   "execution_count": 15,
   "metadata": {},
   "outputs": [
    {
     "name": "stdout",
     "output_type": "stream",
     "text": [
      "the difference of elements is None\n"
     ]
    }
   ],
   "source": [
    "ad = {4,7,32,1,45}\n",
    "bd = {4,78,1,49,55}\n",
    "print(f\"the difference of elements is {bd.difference_update(ad)}\")"
   ]
  },
  {
   "cell_type": "code",
   "execution_count": 1,
   "metadata": {},
   "outputs": [
    {
     "name": "stdout",
     "output_type": "stream",
     "text": [
      "{'python', 12, 'java', 785}\n",
      "<class 'set'>\n"
     ]
    }
   ],
   "source": [
    "ax = {12,\"python\",\"java\",785}\n",
    "print(ax)\n",
    "print(type(ax))"
   ]
  },
  {
   "cell_type": "code",
   "execution_count": 1,
   "metadata": {},
   "outputs": [
    {
     "name": "stdout",
     "output_type": "stream",
     "text": [
      "{2.5, 12, 'Harry'}\n"
     ]
    }
   ],
   "source": [
    "ax1 = {12,\"Harry\",2.5}\n",
    "print(ax1)"
   ]
  },
  {
   "cell_type": "code",
   "execution_count": 2,
   "metadata": {},
   "outputs": [
    {
     "name": "stdout",
     "output_type": "stream",
     "text": [
      "<class 'set'>\n"
     ]
    }
   ],
   "source": [
    "print(type(ax1))"
   ]
  },
  {
   "cell_type": "code",
   "execution_count": null,
   "metadata": {},
   "outputs": [],
   "source": [
    " print(type(ax2))"
   ]
  }
 ],
 "metadata": {
  "kernelspec": {
   "display_name": "Python 3 (ipykernel)",
   "language": "python",
   "name": "python3"
  },
  "language_info": {
   "codemirror_mode": {
    "name": "ipython",
    "version": 3
   },
   "file_extension": ".py",
   "mimetype": "text/x-python",
   "name": "python",
   "nbconvert_exporter": "python",
   "pygments_lexer": "ipython3",
   "version": "3.9.13"
  },
  "vscode": {
   "interpreter": {
    "hash": "c715fae038ea3023ce1b7da7ba9885d98010e1b6ab84c7b957e0940952b2221c"
   }
  }
 },
 "nbformat": 4,
 "nbformat_minor": 2
}
