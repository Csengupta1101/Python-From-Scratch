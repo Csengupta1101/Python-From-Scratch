{
 "cells": [
  {
   "cell_type": "markdown",
   "id": "a7c194ad",
   "metadata": {},
   "source": [
    "First let us understand , what operators are. Operators are symbols or signatures that triggers a computation based on our given variables and it's respective values. There are many operators that exists in python as -\n",
    "+  Arithmatic Operators\n",
    "+  Bitwise Operators\n",
    "+  Shift Operators\n",
    "+  Identity Operators\n",
    "+  Relational/Comparison Operators\n",
    "+  Logical Operators\n",
    "+  Asssignment Operators\n",
    "+  Membership Operators\n",
    "+  Arithmatic-Assignment Operators"
   ]
  },
  {
   "cell_type": "markdown",
   "id": "fa9e6928",
   "metadata": {},
   "source": [
    "#### Arithmatic Operators\n",
    "The arithmatic operators comprises of the symbols or signatures that performs mathematical computation in our programme. Below we are taking two variables , a and b , assigning them values of 10 and 5 and then will go on to perform computation on them"
   ]
  },
  {
   "cell_type": "code",
   "execution_count": 1,
   "id": "dfde9540",
   "metadata": {},
   "outputs": [],
   "source": [
    "a = 10\n",
    "b = 5"
   ]
  },
  {
   "cell_type": "markdown",
   "id": "050ad9b8",
   "metadata": {},
   "source": [
    "Addition operator (+) , this one computes the addition in the programme"
   ]
  },
  {
   "cell_type": "code",
   "execution_count": 2,
   "id": "1dcb01ba",
   "metadata": {},
   "outputs": [
    {
     "name": "stdout",
     "output_type": "stream",
     "text": [
      "15\n"
     ]
    }
   ],
   "source": [
    "print(a+b)"
   ]
  },
  {
   "cell_type": "markdown",
   "id": "e2c6f9af",
   "metadata": {},
   "source": [
    "Substraction operator (-) , this one computes the substraction in the programme"
   ]
  },
  {
   "cell_type": "code",
   "execution_count": 3,
   "id": "e6758c90",
   "metadata": {},
   "outputs": [
    {
     "name": "stdout",
     "output_type": "stream",
     "text": [
      "5\n"
     ]
    }
   ],
   "source": [
    "print(a-b)"
   ]
  },
  {
   "cell_type": "markdown",
   "id": "138e675b",
   "metadata": {},
   "source": [
    "Multiplication operator (*) , this one computes the multiplication in the programme"
   ]
  },
  {
   "cell_type": "code",
   "execution_count": 4,
   "id": "be45de66",
   "metadata": {},
   "outputs": [
    {
     "name": "stdout",
     "output_type": "stream",
     "text": [
      "50\n"
     ]
    }
   ],
   "source": [
    "print(a*b)"
   ]
  },
  {
   "cell_type": "markdown",
   "id": "4be88d5b",
   "metadata": {},
   "source": [
    "Division Operator (/) , this one computes division in the programme"
   ]
  },
  {
   "cell_type": "code",
   "execution_count": 5,
   "id": "83bfe0fe",
   "metadata": {},
   "outputs": [
    {
     "name": "stdout",
     "output_type": "stream",
     "text": [
      "2.0\n"
     ]
    }
   ],
   "source": [
    "print(a/b)"
   ]
  },
  {
   "cell_type": "markdown",
   "id": "b0a2d83c",
   "metadata": {},
   "source": [
    "Modulus Operator(%) , this one provides us with the remainder of the division programme. this time we will take two separate values in the variables so that we can get a remainder of the same."
   ]
  },
  {
   "cell_type": "code",
   "execution_count": 6,
   "id": "774b73a5",
   "metadata": {},
   "outputs": [
    {
     "name": "stdout",
     "output_type": "stream",
     "text": [
      "1\n"
     ]
    }
   ],
   "source": [
    "c = 13\n",
    "d = 3\n",
    "print(c%d)"
   ]
  },
  {
   "cell_type": "markdown",
   "id": "88475a50",
   "metadata": {},
   "source": [
    "Exponential Operator (**) , this one provide with the exponential value of the given variables , exponential value stands for multiplication based on given number , as for example 2 exponential 3 means 2 * 2 * 2. let's have a look into the examples"
   ]
  },
  {
   "cell_type": "code",
   "execution_count": 7,
   "id": "95e74940",
   "metadata": {},
   "outputs": [
    {
     "name": "stdout",
     "output_type": "stream",
     "text": [
      "8\n"
     ]
    }
   ],
   "source": [
    "x = 2\n",
    "y = 3\n",
    "print(x**y)"
   ]
  },
  {
   "cell_type": "markdown",
   "id": "459f4298",
   "metadata": {},
   "source": [
    "Floor Division (//) operator checks the type of number being used in division , wheather it's integer or floating point numbers. Then the division results that comes in , it converts/floors the results into the same type of number (float or int) as the numbers used in the divison. This is called floor division."
   ]
  },
  {
   "cell_type": "code",
   "execution_count": 8,
   "id": "ce96fe1b",
   "metadata": {},
   "outputs": [
    {
     "name": "stdout",
     "output_type": "stream",
     "text": [
      "4\n"
     ]
    }
   ],
   "source": [
    "# getting the result as integer\n",
    "a = 2\n",
    "b = 8\n",
    "print(b//a)"
   ]
  },
  {
   "cell_type": "code",
   "execution_count": 9,
   "id": "790cb0f8",
   "metadata": {},
   "outputs": [
    {
     "name": "stdout",
     "output_type": "stream",
     "text": [
      "4.0\n"
     ]
    }
   ],
   "source": [
    "# getting the result as float\n",
    "a = 2\n",
    "b = 8.3\n",
    "print(b//a)"
   ]
  },
  {
   "cell_type": "markdown",
   "id": "97b26342",
   "metadata": {},
   "source": [
    "#### Bitwise Operators\n",
    "To understand bitwise operators , we first need to understand about bits , as the bitwise operators will only work on the bits and not on the actual value of a given number. The bits are in form of 1 and 0 and there are two metods using which one can convert a decimal number into a binary. We will talk about both -\n",
    "+ Substraction Method\n",
    "+ Succesive Division Method"
   ]
  },
  {
   "cell_type": "markdown",
   "id": "befa7b3f",
   "metadata": {},
   "source": [
    "##### Substraction Method \n",
    "To understand this method , first let's understand diagram of \"power of 2\". This diagram will contain the numbers exceuted with computing powers of 2. \"1 power of 2\" , \"2 power of 2\" ,\"3 power of 2\" etc. And we will only calculate till the result of \"power of 2\" exceeds our given number , for which the binary conversion is needed. Suppose our desired number is 113 , then we will only claculation the power of two till it execeeds 113. let's have a look at the power values"
   ]
  },
  {
   "cell_type": "code",
   "execution_count": 10,
   "id": "3df7761c",
   "metadata": {},
   "outputs": [
    {
     "name": "stdout",
     "output_type": "stream",
     "text": [
      "1 2 4 8 16 32 64 128\n"
     ]
    }
   ],
   "source": [
    "target = 113\n",
    "a = 2**0\n",
    "b = 2**1\n",
    "c = 2**2\n",
    "d = 2**3\n",
    "e = 2**4\n",
    "f = 2**5\n",
    "g = 2**6\n",
    "h = 2**7\n",
    "print(a,b,c,d,e,f,g,h)"
   ]
  },
  {
   "cell_type": "markdown",
   "id": "b9159bcb",
   "metadata": {},
   "source": [
    "We will stop with \"2 to the power 7\" as we are exceeding  113 (our number to convert). Now from the list of numbers generated , we will start taking the next last number from our givne number (113) . As we can see 64 is the next last number to 113 , so we will stor this number first."
   ]
  },
  {
   "cell_type": "code",
   "execution_count": 11,
   "id": "e6579325",
   "metadata": {},
   "outputs": [
    {
     "name": "stdout",
     "output_type": "stream",
     "text": [
      "64\n"
     ]
    }
   ],
   "source": [
    "# the next last to 113\n",
    "print(g)"
   ]
  },
  {
   "cell_type": "markdown",
   "id": "71f02462",
   "metadata": {},
   "source": [
    "Now we will substract this 64 from our initial target number (113) , and will store the result in variable x"
   ]
  },
  {
   "cell_type": "code",
   "execution_count": 12,
   "id": "e313b15e",
   "metadata": {},
   "outputs": [
    {
     "name": "stdout",
     "output_type": "stream",
     "text": [
      "49\n"
     ]
    }
   ],
   "source": [
    "x = target-g\n",
    "print(x)"
   ]
  },
  {
   "cell_type": "markdown",
   "id": "87772a73",
   "metadata": {},
   "source": [
    "Now we will have to look for next last minimum value or the highest number under 49 is 32 , which is stored in variable f , let's have that in print on next cell"
   ]
  },
  {
   "cell_type": "code",
   "execution_count": 13,
   "id": "850c2877",
   "metadata": {},
   "outputs": [
    {
     "name": "stdout",
     "output_type": "stream",
     "text": [
      "32\n"
     ]
    }
   ],
   "source": [
    "print(f)"
   ]
  },
  {
   "cell_type": "markdown",
   "id": "46142224",
   "metadata": {},
   "source": [
    "Now we will substract this 32 from our latest number stored in x (49) , and will store the result in variable y"
   ]
  },
  {
   "cell_type": "code",
   "execution_count": 14,
   "id": "d1410c3a",
   "metadata": {},
   "outputs": [
    {
     "name": "stdout",
     "output_type": "stream",
     "text": [
      "17\n"
     ]
    }
   ],
   "source": [
    "y = x-f\n",
    "print(y)"
   ]
  },
  {
   "cell_type": "markdown",
   "id": "52822d2a",
   "metadata": {},
   "source": [
    "Now we will have to look for next last minimum value or the highest number under 17 is 16 , which is stored in variable e , let's have that in print on next cell"
   ]
  },
  {
   "cell_type": "code",
   "execution_count": 15,
   "id": "a64f7a0f",
   "metadata": {},
   "outputs": [
    {
     "name": "stdout",
     "output_type": "stream",
     "text": [
      "16\n"
     ]
    }
   ],
   "source": [
    "print(e)"
   ]
  },
  {
   "cell_type": "markdown",
   "id": "070bdc2c",
   "metadata": {},
   "source": [
    "Now we will substract this 16 from our latest number stored in y (17) , and will store the result in variable z"
   ]
  },
  {
   "cell_type": "code",
   "execution_count": 16,
   "id": "a5775b41",
   "metadata": {},
   "outputs": [
    {
     "name": "stdout",
     "output_type": "stream",
     "text": [
      "1\n"
     ]
    }
   ],
   "source": [
    "z = y-e\n",
    "print(z)"
   ]
  },
  {
   "cell_type": "markdown",
   "id": "967bacda",
   "metadata": {},
   "source": [
    "As we can see in the table 1 is already present and is assigned to the variable 'a' , so let's go ahead and print it"
   ]
  },
  {
   "cell_type": "code",
   "execution_count": 17,
   "id": "777aaaf2",
   "metadata": {},
   "outputs": [
    {
     "name": "stdout",
     "output_type": "stream",
     "text": [
      "1\n"
     ]
    }
   ],
   "source": [
    "print(a)"
   ]
  },
  {
   "cell_type": "markdown",
   "id": "60c37f2a",
   "metadata": {},
   "source": [
    "Now that we have reached the end , let's add all our found numbers that's there in the table of \"power of 2\""
   ]
  },
  {
   "cell_type": "code",
   "execution_count": 18,
   "id": "5386d78c",
   "metadata": {},
   "outputs": [
    {
     "name": "stdout",
     "output_type": "stream",
     "text": [
      "113\n"
     ]
    }
   ],
   "source": [
    "tg = e+f+g+a\n",
    "print(tg)"
   ]
  },
  {
   "cell_type": "markdown",
   "id": "a370a1b6",
   "metadata": {},
   "source": [
    "As we can see that the number matched our target numbers , now out of the entire table , we used e ,f,g,a to perform the addition , so these varibles will be termed as 1 and the rest variables b,c,d,h will be termed as 0 and that's how we will get our binary converted number"
   ]
  },
  {
   "cell_type": "code",
   "execution_count": 19,
   "id": "f78512a6",
   "metadata": {},
   "outputs": [
    {
     "name": "stdout",
     "output_type": "stream",
     "text": [
      "01110001\n"
     ]
    }
   ],
   "source": [
    "# a = 1 , b = 0 , c = 0, d = 0 ,e = 1 , f = 1 , g = 1 , h = 0\n",
    "# while writing the number it'll start from h\n",
    "print(\"01110001\")"
   ]
  },
  {
   "cell_type": "markdown",
   "id": "b99abe2d",
   "metadata": {},
   "source": [
    "let's check if our process yielded correct result with built in \"bin\" function"
   ]
  },
  {
   "cell_type": "code",
   "execution_count": 20,
   "id": "c62956cb",
   "metadata": {},
   "outputs": [
    {
     "name": "stdout",
     "output_type": "stream",
     "text": [
      "01110001\n"
     ]
    }
   ],
   "source": [
    "target_bin = bin(target)\n",
    "t1 = target_bin.replace(\"0b\",\"0\")\n",
    "print(t1)"
   ]
  },
  {
   "cell_type": "markdown",
   "id": "682e57f0",
   "metadata": {},
   "source": [
    "As we can see both binary representation matches each other"
   ]
  },
  {
   "cell_type": "markdown",
   "id": "721325d3",
   "metadata": {},
   "source": [
    "##### Successive Division Method \n",
    "In this method we continue to divide our target number to achieve the binary represntation , we need to divide our target number with 2 and we will need to work with the remainders. Let's take target number as 113 only as above to confirm our previous answer."
   ]
  },
  {
   "cell_type": "code",
   "execution_count": 21,
   "id": "bce27145",
   "metadata": {},
   "outputs": [],
   "source": [
    "target = 113"
   ]
  },
  {
   "cell_type": "code",
   "execution_count": 22,
   "id": "5b8c9652",
   "metadata": {},
   "outputs": [
    {
     "name": "stdout",
     "output_type": "stream",
     "text": [
      "1\n",
      "56\n"
     ]
    }
   ],
   "source": [
    "r1 = target%2\n",
    "d1 = int(target/2)\n",
    "print(r1)\n",
    "print(d1)"
   ]
  },
  {
   "cell_type": "markdown",
   "id": "8d85dd58",
   "metadata": {},
   "source": [
    "if we divide 113 with 2 remainder as seen above in r1 variable is staying as 1 and the division matrix is giving us 56 , so we will divide 56 with 2 and will continue stroing our remainders till we can't divide anymore"
   ]
  },
  {
   "cell_type": "code",
   "execution_count": 23,
   "id": "bb3c2e10",
   "metadata": {},
   "outputs": [
    {
     "name": "stdout",
     "output_type": "stream",
     "text": [
      "0\n",
      "28\n"
     ]
    }
   ],
   "source": [
    "r2 = d1%2\n",
    "d2 = int(d1/2)\n",
    "print(r2)\n",
    "print(d2)"
   ]
  },
  {
   "cell_type": "code",
   "execution_count": 24,
   "id": "69cb2859",
   "metadata": {},
   "outputs": [
    {
     "name": "stdout",
     "output_type": "stream",
     "text": [
      "0\n",
      "14\n"
     ]
    }
   ],
   "source": [
    "r3 = d2%2\n",
    "d3 = int(d2/2)\n",
    "print(r3)\n",
    "print(d3)"
   ]
  },
  {
   "cell_type": "code",
   "execution_count": 25,
   "id": "39aedeb8",
   "metadata": {},
   "outputs": [
    {
     "name": "stdout",
     "output_type": "stream",
     "text": [
      "0\n",
      "7\n"
     ]
    }
   ],
   "source": [
    "r4 = d3%2\n",
    "d4 = int(d3/2)\n",
    "print(r4)\n",
    "print(d4)"
   ]
  },
  {
   "cell_type": "code",
   "execution_count": 26,
   "id": "c2ef5a48",
   "metadata": {},
   "outputs": [
    {
     "name": "stdout",
     "output_type": "stream",
     "text": [
      "1\n",
      "3\n"
     ]
    }
   ],
   "source": [
    "r5 = d4%2\n",
    "d5 = int(d4/2)\n",
    "print(r5)\n",
    "print(d5)"
   ]
  },
  {
   "cell_type": "code",
   "execution_count": 27,
   "id": "e6bc670a",
   "metadata": {},
   "outputs": [
    {
     "name": "stdout",
     "output_type": "stream",
     "text": [
      "1\n",
      "1\n"
     ]
    }
   ],
   "source": [
    "r6 = d5%2\n",
    "d6 = int(d5/2)\n",
    "print(r6)\n",
    "print(d6)"
   ]
  },
  {
   "cell_type": "markdown",
   "id": "10e33473",
   "metadata": {},
   "source": [
    "Now we can see we have reached the limit and 1 came in the division matrix , which can't be divided with 2 anymore. So to calculate binary representation , we will calculate last division matrix (1) and all other remainders"
   ]
  },
  {
   "cell_type": "code",
   "execution_count": 28,
   "id": "3291be8e",
   "metadata": {},
   "outputs": [
    {
     "name": "stdout",
     "output_type": "stream",
     "text": [
      "1 1 1 0 0 0 1\n"
     ]
    }
   ],
   "source": [
    "print(d6,r6,r5,r4,r3,r2,r1)"
   ]
  },
  {
   "cell_type": "code",
   "execution_count": 29,
   "id": "01fa4d60",
   "metadata": {},
   "outputs": [
    {
     "name": "stdout",
     "output_type": "stream",
     "text": [
      "1110001\n"
     ]
    }
   ],
   "source": [
    "target_bin = bin(target)\n",
    "t1 = target_bin.replace(\"0b\",\"\")\n",
    "print(t1)"
   ]
  },
  {
   "cell_type": "markdown",
   "id": "471d1013",
   "metadata": {},
   "source": [
    "As we can see our representation matches prefectly."
   ]
  },
  {
   "cell_type": "markdown",
   "id": "aa1e3c4f",
   "metadata": {},
   "source": [
    "Now that we are clear about what bits are , let's talk about bitwise operators in brief, we have six bitwise operators in place as below\n",
    "+ And operator (&)\n",
    "+ Or operator (|)\n",
    "+ XOR operator (^)\n",
    "+ Complement operator (~)\n",
    "+ Left shift operator\n",
    "+ Right shift operator"
   ]
  },
  {
   "cell_type": "markdown",
   "id": "564880d3",
   "metadata": {},
   "source": [
    "##### And operator\n",
    "With the help of this operator we execute a value as stated below , let's have a look at the value , then we will discuss how we landed there."
   ]
  },
  {
   "cell_type": "code",
   "execution_count": 30,
   "id": "4ee61541",
   "metadata": {},
   "outputs": [
    {
     "name": "stdout",
     "output_type": "stream",
     "text": [
      "68\n"
     ]
    }
   ],
   "source": [
    "x = 69\n",
    "y = 78\n",
    "print(x&y)"
   ]
  },
  {
   "cell_type": "markdown",
   "id": "843c629f",
   "metadata": {},
   "source": [
    "Now let's first have a look at the bit value for both our variables"
   ]
  },
  {
   "cell_type": "code",
   "execution_count": 31,
   "id": "dd36d2b6",
   "metadata": {},
   "outputs": [
    {
     "name": "stdout",
     "output_type": "stream",
     "text": [
      "1000101\n",
      "1001110\n"
     ]
    }
   ],
   "source": [
    "tb1 = bin(x).replace(\"0b\",\"\")\n",
    "tb2 = bin(y).replace(\"0b\",\"\")\n",
    "print(tb1)\n",
    "print(tb2)"
   ]
  },
  {
   "cell_type": "markdown",
   "id": "2afaed70",
   "metadata": {},
   "source": [
    "As we can see the bit value for both of our decimal numbers , with the and operation the value that exceutes has condition as below\n",
    "+ If both values have 1 , then the end value is 1\n",
    "+ If any value is 0 , then the end value is 0\n",
    "Following the above stated rule we can say that our desired output will be \"1000100\""
   ]
  },
  {
   "cell_type": "markdown",
   "id": "859b4268",
   "metadata": {},
   "source": [
    "Now let's go ahead and try to find our and operator execution and it's binary representation"
   ]
  },
  {
   "cell_type": "code",
   "execution_count": 32,
   "id": "01e3ef7a",
   "metadata": {},
   "outputs": [
    {
     "name": "stdout",
     "output_type": "stream",
     "text": [
      "68\n",
      "1000100\n"
     ]
    }
   ],
   "source": [
    "ax = x&y\n",
    "print(ax)\n",
    "tb3 = bin(ax).replace(\"0b\",\"\")\n",
    "print(tb3)"
   ]
  },
  {
   "cell_type": "markdown",
   "id": "8b1e5327",
   "metadata": {},
   "source": [
    "As we can see the numbers are matching pefrectly with each other."
   ]
  },
  {
   "cell_type": "markdown",
   "id": "1c511472",
   "metadata": {},
   "source": [
    "#### Or Operator\n",
    "In the or opeartor , the rules to remember are as below \n",
    "+ If both the values are 0 , then only output is 0 \n",
    "+ Otherwise it's value is always 1\n",
    "\n",
    "Let's look into a practical example now"
   ]
  },
  {
   "cell_type": "code",
   "execution_count": 33,
   "id": "a899fe44",
   "metadata": {},
   "outputs": [
    {
     "name": "stdout",
     "output_type": "stream",
     "text": [
      "79\n"
     ]
    }
   ],
   "source": [
    "x = 69\n",
    "y = 78\n",
    "print(x|y)"
   ]
  },
  {
   "cell_type": "markdown",
   "id": "e80281f9",
   "metadata": {},
   "source": [
    "We already have the bit values for these variables stored in tb1 and tb2 , so let's print those"
   ]
  },
  {
   "cell_type": "code",
   "execution_count": 34,
   "id": "d9b5aa1f",
   "metadata": {},
   "outputs": [
    {
     "name": "stdout",
     "output_type": "stream",
     "text": [
      "1000101\n",
      "1001110\n"
     ]
    }
   ],
   "source": [
    "print(tb1)\n",
    "print(tb2)"
   ]
  },
  {
   "cell_type": "markdown",
   "id": "f7e30a07",
   "metadata": {},
   "source": [
    "With the above stated rule , our Or operator executed value should be - \"1001111\" , now let's verify this"
   ]
  },
  {
   "cell_type": "code",
   "execution_count": 35,
   "id": "c6eb382a",
   "metadata": {},
   "outputs": [
    {
     "name": "stdout",
     "output_type": "stream",
     "text": [
      "79\n",
      "1001111\n"
     ]
    }
   ],
   "source": [
    "ay = x|y\n",
    "print(ay)\n",
    "tb4 = bin(ay).replace(\"0b\",\"\")\n",
    "print(tb4)"
   ]
  },
  {
   "cell_type": "markdown",
   "id": "c82c2a6c",
   "metadata": {},
   "source": [
    "As we can see , it completely checks out and get's verified."
   ]
  },
  {
   "cell_type": "markdown",
   "id": "ec19a035",
   "metadata": {},
   "source": [
    "#### XOR Operator\n",
    "In the Xor operator the laws are as stated below -\n",
    "+ If both the values are same (both o or both 1) , then only output is 0 \n",
    "+ If both the values are different (0,1 or 1,0) , then only output is 0 \n",
    "\n",
    "Let's look into a practical example now"
   ]
  },
  {
   "cell_type": "code",
   "execution_count": 36,
   "id": "43e7ba37",
   "metadata": {},
   "outputs": [
    {
     "name": "stdout",
     "output_type": "stream",
     "text": [
      "11\n"
     ]
    }
   ],
   "source": [
    "x = 69\n",
    "y = 78\n",
    "print(x^y)"
   ]
  },
  {
   "cell_type": "markdown",
   "id": "cba33b85",
   "metadata": {},
   "source": [
    "We already have the bit values for these variables stored in tb1 and tb2 , so let's print those"
   ]
  },
  {
   "cell_type": "code",
   "execution_count": 37,
   "id": "d4631adc",
   "metadata": {},
   "outputs": [
    {
     "name": "stdout",
     "output_type": "stream",
     "text": [
      "1000101\n",
      "1001110\n"
     ]
    }
   ],
   "source": [
    "print(tb1)\n",
    "print(tb2)"
   ]
  },
  {
   "cell_type": "markdown",
   "id": "8a0fd139",
   "metadata": {},
   "source": [
    "With the above stated rule , our Or operator executed value should be - \"0001011\" , now let's verify this"
   ]
  },
  {
   "cell_type": "code",
   "execution_count": 38,
   "id": "4ce9f8fe",
   "metadata": {},
   "outputs": [
    {
     "name": "stdout",
     "output_type": "stream",
     "text": [
      "11\n",
      "1011\n"
     ]
    }
   ],
   "source": [
    "az = x^y\n",
    "print(az)\n",
    "tb5 = bin(az).replace(\"0b\",\"\")\n",
    "print(tb5)"
   ]
  },
  {
   "cell_type": "markdown",
   "id": "1bd6353d",
   "metadata": {},
   "source": [
    "As we can see our calculation gets verified , 0 used before the number doesn't make any differenece here so will not be something to consider important here and can be ignored"
   ]
  },
  {
   "cell_type": "markdown",
   "id": "adcbf7b2",
   "metadata": {},
   "source": [
    "##### Complement / Not Operator\n",
    "This operator just flips the bits , the rules are as below -\n",
    "+ If the bit value is 1 then this operator makes it 0\n",
    "+ If the bit value is 0 then this operator makes it 1\n",
    "+ This operator is a unary operator , which means it takes only one argument\n",
    "\n",
    "Let's have a look into a practical example"
   ]
  },
  {
   "cell_type": "code",
   "execution_count": 39,
   "id": "1d3a3023",
   "metadata": {},
   "outputs": [
    {
     "name": "stdout",
     "output_type": "stream",
     "text": [
      "10011101\n"
     ]
    }
   ],
   "source": [
    "acm = 157\n",
    "acb = bin(acm).replace(\"0b\",\"\")\n",
    "print(acb)"
   ]
  },
  {
   "cell_type": "markdown",
   "id": "ec4af73a",
   "metadata": {},
   "source": [
    "As the rules above with complement operator , the value should be - \"01100010\" , let's get this verified."
   ]
  },
  {
   "cell_type": "code",
   "execution_count": 40,
   "id": "a02e300d",
   "metadata": {},
   "outputs": [
    {
     "name": "stdout",
     "output_type": "stream",
     "text": [
      "-158\n",
      "10011110\n"
     ]
    }
   ],
   "source": [
    "acc = int(~acm)\n",
    "print(acc)\n",
    "tb6 = bin(158).replace(\"0b\",\"\")\n",
    "print(tb6)"
   ]
  },
  {
   "cell_type": "markdown",
   "id": "b716efbf",
   "metadata": {},
   "source": [
    "#### Relational/Comparison Operator\n",
    "This operators helps in identifying the relationhip or states the comparison among given variable values,,"
   ]
  },
  {
   "cell_type": "code",
   "execution_count": 46,
   "id": "8f542cf0",
   "metadata": {},
   "outputs": [],
   "source": [
    "a = 10\n",
    "b = 15\n",
    "c = 8\n",
    "d = 15"
   ]
  },
  {
   "cell_type": "code",
   "execution_count": 47,
   "id": "e25089c3",
   "metadata": {},
   "outputs": [
    {
     "name": "stdout",
     "output_type": "stream",
     "text": [
      "False\n"
     ]
    }
   ],
   "source": [
    "print(a>b)"
   ]
  },
  {
   "cell_type": "code",
   "execution_count": 48,
   "id": "b4fa51ce",
   "metadata": {},
   "outputs": [
    {
     "name": "stdout",
     "output_type": "stream",
     "text": [
      "False\n"
     ]
    }
   ],
   "source": [
    "print(a == b)"
   ]
  },
  {
   "cell_type": "code",
   "execution_count": 49,
   "id": "7205512a",
   "metadata": {},
   "outputs": [
    {
     "name": "stdout",
     "output_type": "stream",
     "text": [
      "True\n"
     ]
    }
   ],
   "source": [
    "print(a!=b)"
   ]
  },
  {
   "cell_type": "code",
   "execution_count": 50,
   "id": "109bbe1c",
   "metadata": {},
   "outputs": [
    {
     "name": "stdout",
     "output_type": "stream",
     "text": [
      "True\n"
     ]
    }
   ],
   "source": [
    "print(b==d)"
   ]
  },
  {
   "cell_type": "code",
   "execution_count": 51,
   "id": "a0339f66",
   "metadata": {},
   "outputs": [
    {
     "name": "stdout",
     "output_type": "stream",
     "text": [
      "True\n"
     ]
    }
   ],
   "source": [
    "print(b>=d)"
   ]
  },
  {
   "cell_type": "code",
   "execution_count": 53,
   "id": "7fa2ad61",
   "metadata": {},
   "outputs": [
    {
     "name": "stdout",
     "output_type": "stream",
     "text": [
      "True\n"
     ]
    }
   ],
   "source": [
    "print(b>=a)"
   ]
  },
  {
   "cell_type": "code",
   "execution_count": 54,
   "id": "3cd32cd6",
   "metadata": {},
   "outputs": [
    {
     "name": "stdout",
     "output_type": "stream",
     "text": [
      "False\n"
     ]
    }
   ],
   "source": [
    "print(a>=b)"
   ]
  },
  {
   "cell_type": "code",
   "execution_count": 55,
   "id": "3aeec4ab",
   "metadata": {},
   "outputs": [
    {
     "name": "stdout",
     "output_type": "stream",
     "text": [
      "True\n"
     ]
    }
   ],
   "source": [
    "print(a<=b)"
   ]
  },
  {
   "cell_type": "markdown",
   "id": "354c672d",
   "metadata": {},
   "source": [
    "#### Assignment Operators\n",
    "This operators works alongside with arithmatic operators while assigning a value"
   ]
  },
  {
   "cell_type": "code",
   "execution_count": 92,
   "id": "1bed1a63",
   "metadata": {},
   "outputs": [],
   "source": [
    "a = 10\n",
    "b = 6"
   ]
  },
  {
   "cell_type": "code",
   "execution_count": 93,
   "id": "1f718c10",
   "metadata": {},
   "outputs": [],
   "source": [
    "b+=a"
   ]
  },
  {
   "cell_type": "code",
   "execution_count": 94,
   "id": "2cad2f3b",
   "metadata": {},
   "outputs": [
    {
     "data": {
      "text/plain": [
       "16"
      ]
     },
     "execution_count": 94,
     "metadata": {},
     "output_type": "execute_result"
    }
   ],
   "source": [
    "b"
   ]
  },
  {
   "cell_type": "code",
   "execution_count": 95,
   "id": "b2aabc59",
   "metadata": {},
   "outputs": [],
   "source": [
    "b-=a"
   ]
  },
  {
   "cell_type": "code",
   "execution_count": 96,
   "id": "9e4e21fe",
   "metadata": {},
   "outputs": [
    {
     "data": {
      "text/plain": [
       "6"
      ]
     },
     "execution_count": 96,
     "metadata": {},
     "output_type": "execute_result"
    }
   ],
   "source": [
    "b"
   ]
  },
  {
   "cell_type": "code",
   "execution_count": 97,
   "id": "304d1684",
   "metadata": {},
   "outputs": [],
   "source": [
    "b*=a"
   ]
  },
  {
   "cell_type": "code",
   "execution_count": 98,
   "id": "f18371db",
   "metadata": {},
   "outputs": [
    {
     "data": {
      "text/plain": [
       "60"
      ]
     },
     "execution_count": 98,
     "metadata": {},
     "output_type": "execute_result"
    }
   ],
   "source": [
    "b"
   ]
  },
  {
   "cell_type": "code",
   "execution_count": 99,
   "id": "3ca2829d",
   "metadata": {},
   "outputs": [],
   "source": [
    "b**=a"
   ]
  },
  {
   "cell_type": "code",
   "execution_count": 100,
   "id": "a65bfaca",
   "metadata": {},
   "outputs": [
    {
     "data": {
      "text/plain": [
       "604661760000000000"
      ]
     },
     "execution_count": 100,
     "metadata": {},
     "output_type": "execute_result"
    }
   ],
   "source": [
    "b"
   ]
  },
  {
   "cell_type": "code",
   "execution_count": 101,
   "id": "61ec433f",
   "metadata": {},
   "outputs": [],
   "source": [
    "b/=a"
   ]
  },
  {
   "cell_type": "code",
   "execution_count": 102,
   "id": "54868dfc",
   "metadata": {},
   "outputs": [
    {
     "data": {
      "text/plain": [
       "6.0466176e+16"
      ]
     },
     "execution_count": 102,
     "metadata": {},
     "output_type": "execute_result"
    }
   ],
   "source": [
    "b"
   ]
  },
  {
   "cell_type": "code",
   "execution_count": 110,
   "id": "33edfde1",
   "metadata": {},
   "outputs": [],
   "source": [
    "#Membership Operators"
   ]
  },
  {
   "cell_type": "code",
   "execution_count": 111,
   "id": "28e70584",
   "metadata": {},
   "outputs": [],
   "source": [
    "x = [2,4,6,3,1,8]"
   ]
  },
  {
   "cell_type": "code",
   "execution_count": 112,
   "id": "f0a3bb9d",
   "metadata": {},
   "outputs": [],
   "source": [
    "y = 4\n",
    "z = 10"
   ]
  },
  {
   "cell_type": "code",
   "execution_count": 113,
   "id": "086e3565",
   "metadata": {},
   "outputs": [
    {
     "name": "stdout",
     "output_type": "stream",
     "text": [
      "True\n"
     ]
    }
   ],
   "source": [
    "print(y in x)"
   ]
  },
  {
   "cell_type": "code",
   "execution_count": 114,
   "id": "3bbdb365",
   "metadata": {},
   "outputs": [
    {
     "name": "stdout",
     "output_type": "stream",
     "text": [
      "True\n"
     ]
    }
   ],
   "source": [
    "print(z not in x)"
   ]
  },
  {
   "cell_type": "code",
   "execution_count": 115,
   "id": "43e909af",
   "metadata": {},
   "outputs": [
    {
     "name": "stdout",
     "output_type": "stream",
     "text": [
      "False\n"
     ]
    }
   ],
   "source": [
    "print(y not in x)"
   ]
  },
  {
   "cell_type": "code",
   "execution_count": 116,
   "id": "eccfff2d",
   "metadata": {},
   "outputs": [
    {
     "name": "stdout",
     "output_type": "stream",
     "text": [
      "False\n"
     ]
    }
   ],
   "source": [
    "print(z in x)"
   ]
  },
  {
   "cell_type": "code",
   "execution_count": 117,
   "id": "1d64909c",
   "metadata": {},
   "outputs": [],
   "source": [
    "# Identity Operators"
   ]
  },
  {
   "cell_type": "code",
   "execution_count": 120,
   "id": "333b594f",
   "metadata": {},
   "outputs": [],
   "source": [
    "p = [12,23,45]\n",
    "q = [12,23,45]\n",
    "r = [22,13,65]"
   ]
  },
  {
   "cell_type": "code",
   "execution_count": 123,
   "id": "74079761",
   "metadata": {},
   "outputs": [
    {
     "name": "stdout",
     "output_type": "stream",
     "text": [
      "False\n"
     ]
    }
   ],
   "source": [
    "print(p is q)"
   ]
  },
  {
   "cell_type": "code",
   "execution_count": 124,
   "id": "4d69c30d",
   "metadata": {},
   "outputs": [
    {
     "name": "stdout",
     "output_type": "stream",
     "text": [
      "False\n"
     ]
    }
   ],
   "source": [
    "print(p is r)"
   ]
  },
  {
   "cell_type": "code",
   "execution_count": 125,
   "id": "2e3c212a",
   "metadata": {},
   "outputs": [],
   "source": [
    "p = q"
   ]
  },
  {
   "cell_type": "code",
   "execution_count": 127,
   "id": "788bc9a3",
   "metadata": {},
   "outputs": [
    {
     "name": "stdout",
     "output_type": "stream",
     "text": [
      "True\n"
     ]
    }
   ],
   "source": [
    "print(p is q)"
   ]
  },
  {
   "cell_type": "code",
   "execution_count": 128,
   "id": "3794a388",
   "metadata": {},
   "outputs": [],
   "source": [
    "# Logical Operators"
   ]
  },
  {
   "cell_type": "code",
   "execution_count": 130,
   "id": "d4ea461b",
   "metadata": {},
   "outputs": [
    {
     "name": "stdout",
     "output_type": "stream",
     "text": [
      "False\n"
     ]
    }
   ],
   "source": [
    "x = 10\n",
    "y = 12\n",
    "z = 20\n",
    "# for and both condition needs to be true\n",
    "print(x>y and x<z)"
   ]
  },
  {
   "cell_type": "code",
   "execution_count": 131,
   "id": "4cbb1f3c",
   "metadata": {},
   "outputs": [
    {
     "name": "stdout",
     "output_type": "stream",
     "text": [
      "True\n"
     ]
    }
   ],
   "source": [
    "# for or any of the condition can be true\n",
    "print(x>y or x<z)"
   ]
  },
  {
   "cell_type": "code",
   "execution_count": 132,
   "id": "1b7be298",
   "metadata": {},
   "outputs": [],
   "source": [
    "# not operator reverse the result"
   ]
  },
  {
   "cell_type": "code",
   "execution_count": 133,
   "id": "c0dc6297",
   "metadata": {},
   "outputs": [
    {
     "name": "stdout",
     "output_type": "stream",
     "text": [
      "True\n"
     ]
    }
   ],
   "source": [
    "print(not(x>y and x<z))"
   ]
  },
  {
   "cell_type": "code",
   "execution_count": 134,
   "id": "d1f4b81c",
   "metadata": {},
   "outputs": [
    {
     "name": "stdout",
     "output_type": "stream",
     "text": [
      "False\n"
     ]
    }
   ],
   "source": [
    "print(not(x>y or x<z))"
   ]
  },
  {
   "cell_type": "code",
   "execution_count": null,
   "id": "6e30dfdc",
   "metadata": {},
   "outputs": [],
   "source": []
  }
 ],
 "metadata": {
  "kernelspec": {
   "display_name": "Python 3 (ipykernel)",
   "language": "python",
   "name": "python3"
  },
  "language_info": {
   "codemirror_mode": {
    "name": "ipython",
    "version": 3
   },
   "file_extension": ".py",
   "mimetype": "text/x-python",
   "name": "python",
   "nbconvert_exporter": "python",
   "pygments_lexer": "ipython3",
   "version": "3.9.13"
  }
 },
 "nbformat": 4,
 "nbformat_minor": 5
}
